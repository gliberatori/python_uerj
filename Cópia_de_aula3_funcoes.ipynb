{
  "nbformat": 4,
  "nbformat_minor": 0,
  "metadata": {
    "kernelspec": {
      "display_name": "Python 3",
      "language": "python",
      "name": "python3"
    },
    "language_info": {
      "codemirror_mode": {
        "name": "ipython",
        "version": 3
      },
      "file_extension": ".py",
      "mimetype": "text/x-python",
      "name": "python",
      "nbconvert_exporter": "python",
      "pygments_lexer": "ipython3",
      "version": "3.6.4"
    },
    "colab": {
      "name": "Cópia de aula3_funcoes.ipynb",
      "provenance": [],
      "collapsed_sections": [],
      "include_colab_link": true
    }
  },
  "cells": [
    {
      "cell_type": "markdown",
      "metadata": {
        "id": "view-in-github",
        "colab_type": "text"
      },
      "source": [
        "<a href=\"https://colab.research.google.com/github/gliberatori/python_uerj/blob/main/C%C3%B3pia_de_aula3_funcoes.ipynb\" target=\"_parent\"><img src=\"https://colab.research.google.com/assets/colab-badge.svg\" alt=\"Open In Colab\"/></a>"
      ]
    },
    {
      "cell_type": "markdown",
      "metadata": {
        "id": "pwg7grL_1QAX"
      },
      "source": [
        "# AVISO\n",
        "\n",
        "Essa aula é toda baseada no livro \"Think Python\". \n",
        "\n",
        "A versão em português do livro está disponível nesse link: https://penseallen.github.io/PensePython2e/"
      ]
    },
    {
      "cell_type": "markdown",
      "metadata": {
        "id": "mLdU4EFy1QAa"
      },
      "source": [
        "# Funções"
      ]
    },
    {
      "cell_type": "markdown",
      "metadata": {
        "id": "HlUBtJ661QAe"
      },
      "source": [
        "Em programação, uma **função é uma sequência de declarações**, à qual atribuímos um nome, que realiza uma tarefa.\n",
        "\n",
        "Ao criar uma função, deve-se especificar o nome da função e a sequência de declarações.\n",
        "\n",
        "## Chamada de funções\n",
        "Já vimos pelo menos um exemplo de chamada de função:"
      ]
    },
    {
      "cell_type": "code",
      "metadata": {
        "id": "HhR2W5tH1QAh"
      },
      "source": [
        "type(40)"
      ],
      "execution_count": null,
      "outputs": []
    },
    {
      "cell_type": "markdown",
      "metadata": {
        "id": "fU53FlDA1QA4"
      },
      "source": [
        "* **nome** da função: *type*\n",
        "* **argumento**: 40\n",
        "* **valor de retorno** da função: é o resultado que a função retorna. Nesse exemplo, a função de nome *type*, retorna o tipo do *argumento* passado na função."
      ]
    },
    {
      "cell_type": "markdown",
      "metadata": {
        "id": "mDK2ARCC1QA6"
      },
      "source": [
        "## Funções de conversão de tipo\n",
        "O Python fornece funções internas (*built-in*) que convertem valores de um tipo para outro ==> **casting**. \n",
        "A função *int* recebe qualquer valor e o converte em um inteiro, se puder:"
      ]
    },
    {
      "cell_type": "code",
      "metadata": {
        "id": "-B_1Qjp61QA8"
      },
      "source": [
        "int(2.8)"
      ],
      "execution_count": null,
      "outputs": []
    },
    {
      "cell_type": "markdown",
      "metadata": {
        "id": "ZGfKybYY1QBD"
      },
      "source": [
        "ou reclama quando não é possível fazer a conversão:"
      ]
    },
    {
      "cell_type": "code",
      "metadata": {
        "id": "mKIa4eSZ1QBF"
      },
      "source": [
        "int('Oi')"
      ],
      "execution_count": null,
      "outputs": []
    },
    {
      "cell_type": "markdown",
      "metadata": {
        "id": "MHzcwLue1QBM"
      },
      "source": [
        "A função *float* converte inteiros e strings em *floats*:"
      ]
    },
    {
      "cell_type": "code",
      "metadata": {
        "id": "HXHGdTKS1QBM"
      },
      "source": [
        "float(32)"
      ],
      "execution_count": null,
      "outputs": []
    },
    {
      "cell_type": "code",
      "metadata": {
        "id": "DohGLVAN1QBT"
      },
      "source": [
        "float('3.14159')"
      ],
      "execution_count": null,
      "outputs": []
    },
    {
      "cell_type": "markdown",
      "metadata": {
        "id": "zb2XGEGV1QBa"
      },
      "source": [
        "A função *str* converte seu argumento em *strings*:"
      ]
    },
    {
      "cell_type": "code",
      "metadata": {
        "id": "xjNfzXpx1QBb"
      },
      "source": [
        "str(32)"
      ],
      "execution_count": null,
      "outputs": []
    },
    {
      "cell_type": "code",
      "metadata": {
        "id": "YtLFg9Eo1QBg"
      },
      "source": [
        "str(3.14159)"
      ],
      "execution_count": null,
      "outputs": []
    },
    {
      "cell_type": "markdown",
      "metadata": {
        "id": "6QsSxOS21QBk"
      },
      "source": [
        "## Funções matemáticas"
      ]
    },
    {
      "cell_type": "markdown",
      "metadata": {
        "id": "YkHesDWl1QBl"
      },
      "source": [
        "O Python possui um **módulo matemático** que fornece a maioria das funções matemáticas familiares. \n",
        "\n",
        "Um **módulo** de python é um arquivo que contém uma coleção de funções relacionadas.\n",
        "\n",
        "Antes de poder usar um certo módulo, temos que ***importá-lo***:"
      ]
    },
    {
      "cell_type": "code",
      "metadata": {
        "id": "Q4IuIinn1QBm"
      },
      "source": [
        "import math"
      ],
      "execution_count": null,
      "outputs": []
    },
    {
      "cell_type": "markdown",
      "metadata": {
        "id": "VFzSYW3Q1QBr"
      },
      "source": [
        "A declaração acima **cria um objeto de módulo** chamado **math**.\n",
        "\n",
        "Você pode imprimir o objeto de módulo:"
      ]
    },
    {
      "cell_type": "code",
      "metadata": {
        "id": "P7qIO1Fo1QBs"
      },
      "source": [
        "print(math)"
      ],
      "execution_count": null,
      "outputs": []
    },
    {
      "cell_type": "markdown",
      "metadata": {
        "id": "B6mCKwrq1QBx"
      },
      "source": [
        "O objeto do módulo contém as funções e variáveis definidas no módulo. \n",
        "\n",
        "Para acessar uma das funções do módulo usamos a seguinte expressão:\n",
        "\n",
        "* *nome_do_objeto_do_modulo**.**nome_da_funcao*\n",
        "\n",
        "\n",
        "Esse formato é chamado de **notação de ponto**."
      ]
    },
    {
      "cell_type": "code",
      "metadata": {
        "id": "KQuTc56J1QBx"
      },
      "source": [
        "import math\n",
        "cateto_oposto = 4\n",
        "cateto_adjacente = 2\n",
        "tg_theta = cateto_oposto/cateto_adjacente\n",
        "theta = math.atan(tg_theta)\n",
        "print(theta, 'em radianos')"
      ],
      "execution_count": null,
      "outputs": []
    },
    {
      "cell_type": "markdown",
      "metadata": {
        "id": "8_u13RST1QB1"
      },
      "source": [
        "As funções trigonométricas pegam os argumentos em radianos.\n",
        "\n",
        "Podemos converter de radianos para graus com uma função do objeto de módulo:"
      ]
    },
    {
      "cell_type": "code",
      "metadata": {
        "id": "aGEWEuvk1QB3"
      },
      "source": [
        "math.degrees(theta)"
      ],
      "execution_count": null,
      "outputs": []
    },
    {
      "cell_type": "markdown",
      "metadata": {
        "id": "eWa85ov41QB7"
      },
      "source": [
        "Ou:"
      ]
    },
    {
      "cell_type": "code",
      "metadata": {
        "id": "vb5XyQGs1QB7"
      },
      "source": [
        "theta_graus = theta*180/math.pi\n",
        "print(theta_graus)"
      ],
      "execution_count": null,
      "outputs": []
    },
    {
      "cell_type": "markdown",
      "metadata": {
        "id": "IZEpn9H71QCA"
      },
      "source": [
        "Acessamos o valor de $\\pi$ determinado no módulo matemático através da variável math.pi. O valor dessa variável é uma aproximação de π, com precisão de cerca de 15 dígitos."
      ]
    },
    {
      "cell_type": "markdown",
      "metadata": {
        "id": "aQ6v8Xmh1QCA"
      },
      "source": [
        "**Exercício:** Quantos graus tem o ângulo $\\theta$ correspondente a $cos\\theta = \\sqrt2/2$ ?"
      ]
    },
    {
      "cell_type": "code",
      "metadata": {
        "id": "6WG3jCgl1QCB"
      },
      "source": [
        "math.degrees(math.acos(math.sqrt(2)/2))"
      ],
      "execution_count": null,
      "outputs": []
    },
    {
      "cell_type": "markdown",
      "metadata": {
        "id": "21R0vYBn1QCG"
      },
      "source": [
        "## Composição\n",
        "\n",
        "Até agora, analisamos os elementos de um programa - variáveis, expressões e declarações - isoladamente, sem falar sobre como combiná-los.\n",
        "\n",
        "Um dos recursos mais úteis das linguagens de programação é a capacidade de usar blocos de construção pequenos e **compô-los**. \n",
        "\n",
        "Por exemplo, ***o argumento de uma função pode ser qualquer tipo de expressão***, incluindo operadores aritméticos:"
      ]
    },
    {
      "cell_type": "code",
      "metadata": {
        "id": "eZt4ODl81QCG"
      },
      "source": [
        "x = math.sin((theta_graus/360.0) * 2 * math.pi)\n",
        "print(x)"
      ],
      "execution_count": null,
      "outputs": []
    },
    {
      "cell_type": "markdown",
      "metadata": {
        "id": "dT-kDloC1QCL"
      },
      "source": [
        "E até mesmo chamadas de função:"
      ]
    },
    {
      "cell_type": "code",
      "metadata": {
        "id": "LSpJCZYa1QCM"
      },
      "source": [
        "x2 = math.sin(math.radians(theta_graus))\n",
        "print(x2)"
      ],
      "execution_count": null,
      "outputs": []
    },
    {
      "cell_type": "markdown",
      "metadata": {
        "id": "kHnjlfxC1QCP"
      },
      "source": [
        "* **Em quase todo lugar onde é possível usar um valor, também é possível usar uma expressão arbitrária**\n",
        "* Porém, o lado esquerdo de uma **declaração de atribuição** deve ser sempre um ***nome de variável***. "
      ]
    },
    {
      "cell_type": "code",
      "metadata": {
        "id": "Rvisg2GJ1QCQ"
      },
      "source": [
        "horas = 2\n",
        "minutos = horas * 60"
      ],
      "execution_count": null,
      "outputs": []
    },
    {
      "cell_type": "code",
      "metadata": {
        "id": "abEXT41C1QCT"
      },
      "source": [
        "horas * 60 = minutos "
      ],
      "execution_count": null,
      "outputs": []
    },
    {
      "cell_type": "markdown",
      "metadata": {
        "id": "GgzIdBUC1QCX"
      },
      "source": [
        "## Adicionando novas funções\n",
        "\n",
        "* Até agora, só usamos as funções do Python, mas também é possível adicionar novas funções. \n",
        "* Para definir uma função, é necessário:\n",
        "   * determinar o nome da função \n",
        "   * determinar a sequência de instruções a serem executadas quando a função é chamada.\n",
        "\n",
        "A sintaxe para a definição de uma função é:"
      ]
    },
    {
      "cell_type": "code",
      "metadata": {
        "id": "YcNtfvb41QCY"
      },
      "source": [
        "def nome_da_funcao(argumentos_da_funcao):   #cabeçário (header) da função\n",
        "    declaracao = 'esse é o CORPO da função. É onde são feitas as declarações da função'  # as declarações da funções devem ser INDENTADAS."
      ],
      "execution_count": null,
      "outputs": []
    },
    {
      "cell_type": "markdown",
      "metadata": {
        "id": "Du2f83Qm1QCb"
      },
      "source": [
        "Um exemplo de função:"
      ]
    },
    {
      "cell_type": "code",
      "metadata": {
        "id": "N6Y4EIhT1QCd"
      },
      "source": [
        "def print_poema():\n",
        "    print('Caminante, no hay camino,')\n",
        "    print('se hace camino al andar.')"
      ],
      "execution_count": null,
      "outputs": []
    },
    {
      "cell_type": "markdown",
      "metadata": {
        "id": "sElRdIgU1QCg"
      },
      "source": [
        "Ao definir uma função, se cria uma variável com o mesmo nome."
      ]
    },
    {
      "cell_type": "code",
      "metadata": {
        "id": "MCykAjJg1QCg"
      },
      "source": [
        "print(print_poema)"
      ],
      "execution_count": null,
      "outputs": []
    },
    {
      "cell_type": "code",
      "metadata": {
        "id": "Dm9uEFR51QCl"
      },
      "source": [
        "type(print_poema)"
      ],
      "execution_count": null,
      "outputs": []
    },
    {
      "cell_type": "markdown",
      "metadata": {
        "id": "0W3Nn6Q-1QCo"
      },
      "source": [
        "O valor de print_poema é um **objeto de função**, que possui o ***tipo*** 'function'.\n",
        "\n",
        "A sintaxe para chamar a nova função é a mesma das funções integradas (built-in):"
      ]
    },
    {
      "cell_type": "code",
      "metadata": {
        "id": "WBBbS-ov1QCp"
      },
      "source": [
        "print_poema()"
      ],
      "execution_count": null,
      "outputs": []
    },
    {
      "cell_type": "markdown",
      "metadata": {
        "id": "AuwQKBc91QCt"
      },
      "source": [
        "Uma vez definida a função, podemos usá-la dentro de outra função:"
      ]
    },
    {
      "cell_type": "code",
      "metadata": {
        "id": "eOFu6mFD1QCt"
      },
      "source": [
        "def verso_poema():\n",
        "    print('Caminante, son tus huellas')\n",
        "    print('el camino y nada más;')\n",
        "    \n",
        "    print_poema()\n",
        "    \n",
        "    print('Al andar se hace el camino,')\n",
        "    print('y al volver la vista atrás,')\n",
        "    print('se ve la senda que nunca')\n",
        "    print('se ha de volver a pisar.')\n",
        "    print('Caminante no hay camino')\n",
        "    print('sino estelas en la mar.')"
      ],
      "execution_count": null,
      "outputs": []
    },
    {
      "cell_type": "markdown",
      "metadata": {
        "id": "0sDYw-NV1QCw"
      },
      "source": [
        "E chamá-la:"
      ]
    },
    {
      "cell_type": "code",
      "metadata": {
        "id": "bbW8FkNX1QCw"
      },
      "source": [
        "verso_poema()"
      ],
      "execution_count": null,
      "outputs": []
    },
    {
      "cell_type": "markdown",
      "metadata": {
        "id": "RG7Ibl4j1QCz"
      },
      "source": [
        "## Definições e usos\n",
        "\n",
        "Até agora, definimos duas funções e as chamamos. \n",
        "Ao colocarmos as funções e chamada em um programa, temos:"
      ]
    },
    {
      "cell_type": "code",
      "metadata": {
        "id": "0ZHgmqH-1QC1"
      },
      "source": [
        "def print_poema():\n",
        "    print('Caminante, no hay camino,')\n",
        "    print('se hace camino al andar.')\n",
        "    \n",
        "def verso_poema():\n",
        "    print('Caminante, son tus huellas')\n",
        "    print('el camino y nada más;')\n",
        "    \n",
        "    print_poema()\n",
        "    \n",
        "    print('Al andar se hace el camino,')\n",
        "    print('y al volver la vista atrás,')\n",
        "    print('se ve la senda que nunca')\n",
        "    print('se ha de volver a pisar.')\n",
        "    print('Caminante no hay camino')\n",
        "    print('sino estelas en la mar.')\n",
        "\n",
        "verso_poema()"
      ],
      "execution_count": null,
      "outputs": []
    },
    {
      "cell_type": "markdown",
      "metadata": {
        "id": "-cd69H651QC3"
      },
      "source": [
        "***Este programa contém duas definições de função: print_poema e verso_poema.*** \n",
        "\n",
        "* As definições de função são executadas exatamente como outras instruções, mas o efeito é criar ***objetos de função***. \n",
        "* As instruções dentro da função só são executadas quando a função é chamada.\n",
        "* Somente a definição (sem a chamada) da função não gera saída.\n",
        "\n",
        "\n",
        "\n",
        "* A função deve ser definida **antes** de poder ser executada. "
      ]
    },
    {
      "cell_type": "markdown",
      "metadata": {
        "id": "kAzo_U0J1QC4"
      },
      "source": [
        "## Exercícios:\n",
        "1. Crie uma funcão que tome um argumento e imprima o valor e o tipo dele.\n",
        "1. Crie uma função que calcule e imprima velocidade media de um objeto a partir de uma posição inicial, a final e o tempo transcorrido para um objeto em MRU. Também crie uma funcão que calcule e imprima a velocidade de um objeto a partir da aceleração constante e o tempo (MRUA) (p.ex. queda libre).\n",
        "1. Crie uma funcão para calcular o ángulo zenital do sol (da semana passada) tomando como argumento as medidas da altura e o comprimento da sombra.\n",
        "1. Crie uma função que faça a conversão de uma medida inicialmente em milhas para m, e outra para o inverso; uma de horas para segundos, e o inverso. Utilize estas funções para resolver novamente o primeiro exercício da semana passada (da corrida). Se uma pessoa demora 30 minutos em 4 milhas, qual velocidade media em km/h ? e o tempo medio por kilometro?\n",
        "1. Crie funções para calcular os outros exemplos das aulas anteriores: IMC, volume de uma esfera, distancia entre pontos de máximos de difração. Decida quais serão os argumentos e o valor retornado.\n"
      ]
    },
    {
      "cell_type": "markdown",
      "metadata": {
        "id": "JdZc2Ux4-alJ"
      },
      "source": [
        "1. Crie uma funcão que tome um argumento e imprima o valor e o tipo dele.\n"
      ]
    },
    {
      "cell_type": "code",
      "metadata": {
        "colab": {
          "base_uri": "https://localhost:8080/"
        },
        "id": "OlnyfLZk-d4_",
        "outputId": "30c32204-ca3c-44de-de38-7fe013d4c390"
      },
      "source": [
        "def funcao(argumento):\n",
        "  print(\"O valor do argumento é:\",argumento)\n",
        "  print(\"O tipo do argumento é:\",type(argumento))\n",
        "\n",
        "funcao(25.9)"
      ],
      "execution_count": null,
      "outputs": [
        {
          "output_type": "stream",
          "text": [
            "O valor do argumento é: 25.9\n",
            "O tipo do argumento é: <class 'float'>\n"
          ],
          "name": "stdout"
        }
      ]
    },
    {
      "cell_type": "markdown",
      "metadata": {
        "id": "NfJd1Zmn_vS0"
      },
      "source": [
        "2. Crie uma função que calcule e imprima velocidade media de um objeto a partir de uma posição inicial, a final e o tempo transcorrido para um objeto em MRU. Também crie uma funcão que calcule e imprima a velocidade de um objeto a partir da aceleração constante e o tempo (MRUA) (p.ex. queda livre)."
      ]
    },
    {
      "cell_type": "code",
      "metadata": {
        "colab": {
          "base_uri": "https://localhost:8080/"
        },
        "id": "iyvV8aGNC_Ja",
        "outputId": "1ecb3cd0-0731-4d0a-d68e-60ccb2b9137c"
      },
      "source": [
        "# Movimento retilíneo uniforme\n",
        "def velocidade_media(posicao_inicial,posicao_final,tempo):\n",
        "  print(\"A velocidade média do objeto é de\", '{:4.2f}'.format((posicao_final-posicao_inicial)/tempo),\"m/s.\")\n",
        "\n",
        "velocidade_media(6,12,2)"
      ],
      "execution_count": null,
      "outputs": [
        {
          "output_type": "stream",
          "text": [
            "A velocidade média do objeto é de 3.00 m/s.\n"
          ],
          "name": "stdout"
        }
      ]
    },
    {
      "cell_type": "code",
      "metadata": {
        "colab": {
          "base_uri": "https://localhost:8080/",
          "height": 129
        },
        "id": "tmv_qBbxZS45",
        "outputId": "0dc20c04-23e4-440b-d804-487d6c58dfc3"
      },
      "source": [
        "# Movimento retilíneo uniformemente variado\n",
        "def velocidad(velocidad0,aceleracao,Tempo):\n",
        "  print(\"A velocidade do objeto é de\", '{:4.2f}'.format((velocidad0+aceleracao*Tempo),\"m/s.\")\n",
        "\n",
        "velocidad(1,9,2)"
      ],
      "execution_count": null,
      "outputs": [
        {
          "output_type": "error",
          "ename": "SyntaxError",
          "evalue": "ignored",
          "traceback": [
            "\u001b[0;36m  File \u001b[0;32m\"<ipython-input-25-0cf91b7e444e>\"\u001b[0;36m, line \u001b[0;32m6\u001b[0m\n\u001b[0;31m    velocidad(1,9,2)\u001b[0m\n\u001b[0m            ^\u001b[0m\n\u001b[0;31mSyntaxError\u001b[0m\u001b[0;31m:\u001b[0m invalid syntax\n"
          ]
        }
      ]
    },
    {
      "cell_type": "markdown",
      "metadata": {
        "id": "VuwpyVlBZ4YN"
      },
      "source": [
        "3. Crie uma funcão para calcular o ángulo zenital do sol (da semana passada) tomando como argumento as medidas da altura e o comprimento da sombra."
      ]
    },
    {
      "cell_type": "code",
      "metadata": {
        "colab": {
          "base_uri": "https://localhost:8080/"
        },
        "id": "shwDzdF_aSUL",
        "outputId": "4254a321-6c07-4457-aa3a-c9d195e6f254"
      },
      "source": [
        "import math\n",
        "def angulo_zenital(altura,sombra):\n",
        "  print(\"O ângulo zenital é de \",'{:4.2f}'.format(math.atan(sombra/altura)*180/math.pi),\"°.\",sep=\"\")\n",
        "\n",
        "angulo_zenital(5,0.5)"
      ],
      "execution_count": null,
      "outputs": [
        {
          "output_type": "stream",
          "text": [
            "O ângulo zenital é de 5.71°.\n"
          ],
          "name": "stdout"
        }
      ]
    },
    {
      "cell_type": "markdown",
      "metadata": {
        "id": "mJHGA2KbesmF"
      },
      "source": [
        "4. Crie uma função que faça a conversão de uma medida inicialmente em milhas para m, e outra para o inverso; uma de horas para segundos, e o inverso. Utilize estas funções para resolver novamente o primeiro exercício da semana passada (da corrida). Se uma pessoa demora 30 minutos em 4 milhas, qual velocidade media em km/h ? e o tempo medio por kilometro?"
      ]
    },
    {
      "cell_type": "code",
      "metadata": {
        "colab": {
          "base_uri": "https://localhost:8080/"
        },
        "id": "ftwK4A5JewwB",
        "outputId": "cd1e6785-e052-4d49-eb58-550f7e06aa80"
      },
      "source": [
        "def milhas_para_km(milhas):\n",
        "  kilometros = milhas*1.61\n",
        "  return kilometros\n",
        "\n",
        "def km_para_milhas(km):\n",
        "  milha = km/1.61\n",
        "  return milha\n",
        "\n",
        "def horas_para_segundo(horas):\n",
        "  segundos = horas*3600\n",
        "  return segundos\n",
        "\n",
        "def segundos_para_hora(segundo):\n",
        "  hora = segundo/3600\n",
        "  return hora\n",
        "\n",
        "#Se você fizer uma corrida de 10 quilômetros em 43 minutos e 30 segundos, qual será seu tempo médio por milha? Qual é a sua velocidade média em milhas por hora? (Dica: há 1,61 quilômetros em uma milha).\n",
        "# Distância em kilometros\n",
        "distancia = 10\n",
        "\n",
        "# Quantidade de minutos\n",
        "minutos = 43\n",
        "\n",
        "# Quantidade de segundos\n",
        "segundos = 30\n",
        "\n",
        "#Tempo total em segundos\n",
        "tempo_total = (minutos*60+segundos)\n",
        "\n",
        "# Impressão dos resultados solicitados\n",
        "print(\"O tempo médio por milha é de aproximadamente\",int(segundos_para_hora(tempo_total)*60/km_para_milhas(distancia)),\"minutos por milha.\")\n",
        "print(\"A velocidade média é de aproximadamente\", int(km_para_milhas(distancia)/segundos_para_hora(tempo_total)),\"milhas por hora.\")\n",
        "\n",
        "#Se uma pessoa demora 30 minutos em 4 milhas, qual velocidade media em km/h ? e o tempo medio por kilometro?\n",
        "distancia = milhas_para_km(4)\n",
        "tempo_total = 30*60\n",
        "\n",
        "print(\"A velocidade média é de aproximadamente\", '{:4.2f}'.format(distancia/segundos_para_hora(tempo_total)),\"kilometros por hora.\")\n",
        "print(\"O tempo médio é de aproximadamente\", '{:4.2f}'.format(segundos_para_hora(tempo_total)/distancia),\"horas por kilometro.\")\n"
      ],
      "execution_count": 2,
      "outputs": [
        {
          "output_type": "stream",
          "text": [
            "O tempo médio por milha é de aproximadamente 7 minutos por milha.\n",
            "A velocidade média é de aproximadamente 8 milhas por hora.\n",
            "A velocidade média é de aproximadamente 12.88 kilometros por hora.\n",
            "O tempo médio é de aproximadamente 0.08 horas por kilometro.\n"
          ],
          "name": "stdout"
        }
      ]
    },
    {
      "cell_type": "markdown",
      "metadata": {
        "id": "3Ms3V-m-QrLh"
      },
      "source": [
        "5. Crie funções para calcular os outros exemplos das aulas anteriores: IMC, volume de uma esfera, distancia entre pontos de máximos de difração. Decida quais serão os argumentos e o valor retornado."
      ]
    },
    {
      "cell_type": "code",
      "metadata": {
        "colab": {
          "base_uri": "https://localhost:8080/"
        },
        "id": "bBR2rou3UfzK",
        "outputId": "39263415-9ab8-46e2-8d9a-c06a7f062525"
      },
      "source": [
        "def imc(massa,altura):\n",
        "  IMC = massa / altura**2\n",
        "  return IMC\n",
        "\n",
        "print(\"Minha massa é de 111 Kg e minha altura é de 1,89 metros. Então tenho um IMC de \",int(imc(111,1.89)),\" Kg/m².\",sep=\"\")\n",
        "print(\"Já a massa do bêbe é de 11 Kg e sua altura é de 70 cm. Então ele tem um IMC de \",int(imc(11,0.7)),\" Kg/m².\",sep=\"\")\n"
      ],
      "execution_count": 6,
      "outputs": [
        {
          "output_type": "stream",
          "text": [
            "Minha massa é de 111 Kg e minha altura é de 1,89 metros. Então tenho um IMC de 31 Kg/m².\n",
            "Já a massa do bêbe é de 11 Kg e sua altura é de 70 cm. Então ele tem um IMC de 22 Kg/m².\n"
          ],
          "name": "stdout"
        }
      ]
    },
    {
      "cell_type": "code",
      "metadata": {
        "colab": {
          "base_uri": "https://localhost:8080/"
        },
        "id": "VBTmjagYWm9i",
        "outputId": "acb21352-3fae-4738-a95e-0b3150ecbe5f"
      },
      "source": [
        "import math\n",
        "def volume(raio):\n",
        "  volume2 = 4/3*math.pi*raio**3\n",
        "  return volume2\n",
        "print(\"O volume é\",'{:4.2f}'.format(volume(5)))"
      ],
      "execution_count": 7,
      "outputs": [
        {
          "output_type": "stream",
          "text": [
            "O volume é 523.60\n"
          ],
          "name": "stdout"
        }
      ]
    },
    {
      "cell_type": "code",
      "metadata": {
        "colab": {
          "base_uri": "https://localhost:8080/"
        },
        "id": "ZFIt2G95XOre",
        "outputId": "8d15cff8-0594-4baa-9560-1c0bc168f7d2"
      },
      "source": [
        "def distancia(lambida,D,d):\n",
        "  y = lambida*D/d\n",
        "  return y\n",
        "print(\"A distância entre dois máximos de interferência consecutivos é\",distancia(632.8 * 10**(-10),1.98,0.25 * 10**(-3)),\"metros.\")"
      ],
      "execution_count": 8,
      "outputs": [
        {
          "output_type": "stream",
          "text": [
            "A distância entre dois máximos de interferência consecutivos é 0.0005011775999999999 metros.\n"
          ],
          "name": "stdout"
        }
      ]
    }
  ]
}